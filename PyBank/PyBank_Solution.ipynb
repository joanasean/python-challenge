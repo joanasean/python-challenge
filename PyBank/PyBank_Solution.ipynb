{
 "cells": [
  {
   "cell_type": "code",
   "execution_count": 1,
   "metadata": {},
   "outputs": [],
   "source": [
    "import csv"
   ]
  },
  {
   "cell_type": "code",
   "execution_count": 2,
   "metadata": {},
   "outputs": [],
   "source": [
    "#Step 2: Creating the path, reading in the file into dataframe\n",
    "pybankpath = \"Resources/budget_data.csv\""
   ]
  },
  {
   "cell_type": "code",
   "execution_count": 3,
   "metadata": {
    "scrolled": true
   },
   "outputs": [
    {
     "name": "stdout",
     "output_type": "stream",
     "text": [
      "------------------------Financial Analysis-------------------------------\n",
      "The total number of months included in the dataset is 86 \n",
      "The net total amount of P/L over the period from Jan-2010 to Feb-2017 is $ 38382578.0\n",
      "The average of the changes in P/L over the entire period was $ -2315.12\n",
      "The greatest increase in profits was $ 1926159.0 of month Feb-2012\n",
      "The greatest decrease in profits was $ -2196167.0 of month Sep-2013\n"
     ]
    }
   ],
   "source": [
    "# PYBANK CODE:\n",
    "\n",
    "# The total number of months included in the dataset \n",
    "# The net total amount of \"Profit/Losses\" over the entire period\n",
    "with open(pybankpath,\"r\", newline = \"\") as csvfile:\n",
    "    \n",
    "    pybank_chart = csv.reader(csvfile, delimiter = \",\")\n",
    "    month_counter = 0\n",
    "    net_amount_PL = 0\n",
    "    listing_months = []\n",
    "    changes_PL = []\n",
    "    \n",
    "    next(pybank_chart)\n",
    "    \n",
    "    for row in pybank_chart:\n",
    "        listing_months.append(row[0])\n",
    "        changes_PL.append(row[1])\n",
    "        month_counter = month_counter + 1\n",
    "        net_amount_PL = net_amount_PL + float(row[1])\n",
    "    print(\"------------------------Financial Analysis-------------------------------\")    \n",
    "    print(f\"The total number of months included in the dataset is {month_counter} \")\n",
    "    print(f\"The net total amount of P/L over the period from {listing_months[0]} to {listing_months[-1]} is $ {net_amount_PL}\")\n",
    "    \n",
    "    # The average of the changes in \"Profit/Losses\" over the entire period\n",
    "    \n",
    "    changes_MtoM_list = []\n",
    "    \n",
    "    for i in range(0,len(changes_PL)):\n",
    "        if len(changes_MtoM_list) != len(changes_PL) - 1:\n",
    "            changes_MtoM_list.append(float(changes_PL[i + 1]) - float(changes_PL[i]))\n",
    "        else:\n",
    "            changes_MtoM_list\n",
    "    print(f\"The average of the changes in P/L over the entire period was $ {round(sum(changes_MtoM_list)/len(changes_MtoM_list),2)}\")\n",
    "    \n",
    "    # The greatest increase in profits (date and amount) over the entire period\n",
    "    # The greatest decrease in profits (date and amount) over the entire period\n",
    "    \n",
    "    index_max = changes_MtoM_list.index(max(changes_MtoM_list))\n",
    "    index_min = changes_MtoM_list.index(min(changes_MtoM_list))\n",
    "    print(f\"The greatest increase in profits was $ {max(changes_MtoM_list)} of month {listing_months[index_max + 1]}\")\n",
    "    print(f\"The greatest decrease in profits was $ {min(changes_MtoM_list)} of month {listing_months[index_min + 1]}\")"
   ]
  },
  {
   "cell_type": "code",
   "execution_count": null,
   "metadata": {},
   "outputs": [],
   "source": []
  }
 ],
 "metadata": {
  "kernelspec": {
   "display_name": "Python 3",
   "language": "python",
   "name": "python3"
  },
  "language_info": {
   "codemirror_mode": {
    "name": "ipython",
    "version": 3
   },
   "file_extension": ".py",
   "mimetype": "text/x-python",
   "name": "python",
   "nbconvert_exporter": "python",
   "pygments_lexer": "ipython3",
   "version": "3.7.4"
  }
 },
 "nbformat": 4,
 "nbformat_minor": 2
}
