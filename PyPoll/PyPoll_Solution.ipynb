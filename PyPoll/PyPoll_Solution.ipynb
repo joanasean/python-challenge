{
 "cells": [
  {
   "cell_type": "code",
   "execution_count": 2,
   "metadata": {},
   "outputs": [
    {
     "name": "stdout",
     "output_type": "stream",
     "text": [
      "Election Results\n",
      "------------------\n",
      "Total Votes: 3521001\n",
      "------------------\n",
      "Khan: 63% (2218231)\n",
      "Correy: 20% (704200)\n",
      "Li: 14% (492940)\n",
      "O'Tooley: 3% (105630)\n",
      "------------------\n",
      "Winner: Khan\n"
     ]
    }
   ],
   "source": [
    "import csv\n",
    "\n",
    "#PYPOLL CODE: \n",
    "\n",
    "pypollpath = \"Resources/election_data.csv\"\n",
    "\n",
    "with open(pypollpath,\"r\", newline = \"\") as csvfile:\n",
    "    pypoll_chart = csv.reader(csvfile, delimiter = \",\")\n",
    "    next(pypoll_chart)\n",
    "    unique_candidate_list = []\n",
    "    total_votes = []\n",
    "    candidates_chosen = []\n",
    "    dictionary = {}\n",
    "    \n",
    "    for row in pypoll_chart:\n",
    "        \n",
    "    # The total number of votes cast\n",
    "        total_votes.append(row[0])     \n",
    "        \n",
    "    #  A complete list of candidates who received votes\n",
    "        if row[2] not in unique_candidate_list: \n",
    "            unique_candidate_list.append(row[2])\n",
    "\n",
    "    # The total number of votes each candidate won\n",
    "        candidates_chosen.append(row[2])\n",
    "    for i in unique_candidate_list:\n",
    "        dictionary[i] = [candidates_chosen.count(i)]\n",
    "        \n",
    "    # The percentage of votes each candidate won\n",
    "        dictionary[i].append(round((candidates_chosen.count(i)/len(total_votes))*100))       \n",
    "             \n",
    "    # The winner of the election based on popular vote. \n",
    "    Winner = \"\"\n",
    "    Popular_Vote = 0 \n",
    "    for candidate in dictionary: \n",
    "        if dictionary[candidate][0] > Popular_Vote:\n",
    "            Winner = candidate\n",
    "            Popular_Vote = dictionary[candidate][0]\n",
    "            \n",
    " \n",
    "    print(\"Election Results\")\n",
    "    print(\"------------------\")\n",
    "    print(f\"Total Votes: {len(total_votes)}\")\n",
    "    print(\"------------------\")\n",
    "    for candidate in dictionary: \n",
    "        print(f\"{candidate}: {dictionary[candidate][1]}% ({dictionary[candidate][0]})\")\n",
    "    print(\"------------------\")\n",
    "    print(f\"Winner: {Winner}\")"
   ]
  },
  {
   "cell_type": "code",
   "execution_count": null,
   "metadata": {},
   "outputs": [],
   "source": []
  }
 ],
 "metadata": {
  "kernelspec": {
   "display_name": "Python 3",
   "language": "python",
   "name": "python3"
  },
  "language_info": {
   "codemirror_mode": {
    "name": "ipython",
    "version": 3
   },
   "file_extension": ".py",
   "mimetype": "text/x-python",
   "name": "python",
   "nbconvert_exporter": "python",
   "pygments_lexer": "ipython3",
   "version": "3.7.4"
  }
 },
 "nbformat": 4,
 "nbformat_minor": 2
}
